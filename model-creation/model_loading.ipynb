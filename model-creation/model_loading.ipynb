{
 "cells": [
  {
   "cell_type": "markdown",
   "metadata": {},
   "source": [
    "# Testing Loading model and running predictions with an appropriate output"
   ]
  },
  {
   "cell_type": "code",
   "execution_count": 107,
   "metadata": {},
   "outputs": [],
   "source": [
    "def remove_set(a,b):\n",
    "    return list(set(a)-set(b))"
   ]
  },
  {
   "cell_type": "code",
   "execution_count": 108,
   "metadata": {},
   "outputs": [],
   "source": [
    "import joblib\n",
    "model = joblib.load('./dota_picks_trained.h5')"
   ]
  },
  {
   "cell_type": "code",
   "execution_count": 110,
   "metadata": {},
   "outputs": [],
   "source": [
    "hero_json_file = os.path.join(\".\",\"data\",\"heroes.json\")\n",
    "import json\n",
    "hero_ids = []\n",
    "with open(hero_json_file) as json_file:\n",
    "    data = json.load(json_file)\n",
    "    for i in range(len(data)):\n",
    "        currDict = data[i]\n",
    "        hero_ids.append(currDict['id'])\n",
    "matchups_all = []\n",
    "for i in hero_ids:\n",
    "    for j in hero_ids:\n",
    "        if i != j:\n",
    "            matchups_all.append(str(i) + \"-\" + str(j))"
   ]
  },
  {
   "cell_type": "code",
   "execution_count": 111,
   "metadata": {},
   "outputs": [
    {
     "data": {
      "text/plain": [
       "OneHotEncoder()"
      ]
     },
     "execution_count": 111,
     "metadata": {},
     "output_type": "execute_result"
    }
   ],
   "source": [
    "from sklearn.preprocessing import OneHotEncoder\n",
    "import numpy as np\n",
    "ohe = OneHotEncoder()\n",
    "X_all = np.array(matchups_all).reshape(-1,1)\n",
    "ohe.fit(X_all)"
   ]
  },
  {
   "cell_type": "code",
   "execution_count": 114,
   "metadata": {},
   "outputs": [],
   "source": [
    "our_heroes = [9,18,53]\n",
    "their_heroes = [10,51,38]\n",
    "hero_type = \"Carry\"\n",
    "matchups = []\n",
    "results = {}\n",
    "check_heroes = remove_set(hero_ids,our_heroes + their_heroes)\n",
    "checked_dict = {}\n",
    "with open(hero_json_file) as heroes_file:\n",
    "    heroes_json = json.load(heroes_file)\n",
    "    for i in check_heroes:\n",
    "        sum = 0\n",
    "        if hero_type in next(item for item in heroes_json if item[\"id\"] == i)['roles']:\n",
    "            for j in their_heroes:\n",
    "                if i != j:\n",
    "                    result = model.predict_proba(ohe.transform([[str(i) + \"-\" + str(j)]]))[0].tolist()[0][0]\n",
    "                    sum = sum + result\n",
    "                    results[i] = sum"
   ]
  },
  {
   "cell_type": "code",
   "execution_count": 115,
   "metadata": {},
   "outputs": [
    {
     "name": "stdout",
     "output_type": "stream",
     "text": [
      "49\n",
      "[1, 4, 6, 8, 11, 15, 19, 21, 22, 23, 28, 32, 34, 35, 36, 39, 41, 43, 44, 46, 47, 48, 52, 56, 60, 61, 67, 70, 73, 75, 76, 77, 78, 80, 81, 82, 89, 93, 95, 99, 102, 106, 113, 114, 120, 126, 129, 135, 136]\n"
     ]
    }
   ],
   "source": [
    "#If 3 or more heroes have the same maximum, get them all and get a random selection from them, otherwise show the best 3 hero choices\n",
    "import random\n",
    "max_value = max(results.values());  {key for key, value in results.items() if value == max_value}\n",
    "if len({key for key, value in results.items() if value == max_value}) >= 3:\n",
    "    possible_heroes = []\n",
    "    print(len({key for key, value in results.items() if value == max_value}))\n",
    "    for key,value in results.items():\n",
    "        if value == max_value:\n",
    "            possible_heroes.append(key)\n",
    "    print(possible_heroes)\n",
    "    hero_picks = random.sample(possible_heroes,3)\n",
    "else:\n",
    "    hero_picks = sorted(results, key=results.get, reverse=True)[:3]"
   ]
  },
  {
   "cell_type": "code",
   "execution_count": 116,
   "metadata": {},
   "outputs": [
    {
     "name": "stdout",
     "output_type": "stream",
     "text": [
      "[136, 8, 19]\n"
     ]
    }
   ],
   "source": [
    "print(hero_picks)"
   ]
  }
 ],
 "metadata": {
  "interpreter": {
   "hash": "d1574850ca77252239d0d877d238439598adc32d67bf31171978a636a5d95a1d"
  },
  "kernelspec": {
   "display_name": "Python 3.9.1 64-bit",
   "language": "python",
   "name": "python3"
  },
  "language_info": {
   "codemirror_mode": {
    "name": "ipython",
    "version": 3
   },
   "file_extension": ".py",
   "mimetype": "text/x-python",
   "name": "python",
   "nbconvert_exporter": "python",
   "pygments_lexer": "ipython3",
   "version": "3.6.13"
  },
  "orig_nbformat": 4
 },
 "nbformat": 4,
 "nbformat_minor": 2
}
